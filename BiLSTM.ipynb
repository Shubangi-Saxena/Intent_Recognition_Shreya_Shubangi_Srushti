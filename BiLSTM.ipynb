{
  "nbformat": 4,
  "nbformat_minor": 0,
  "metadata": {
    "colab": {
      "provenance": [],
      "authorship_tag": "ABX9TyPwFj4/Tn/eXkiKrlQR13nH",
      "include_colab_link": true
    },
    "kernelspec": {
      "name": "python3",
      "display_name": "Python 3"
    },
    "language_info": {
      "name": "python"
    }
  },
  "cells": [
    {
      "cell_type": "markdown",
      "metadata": {
        "id": "view-in-github",
        "colab_type": "text"
      },
      "source": [
        "<a href=\"https://colab.research.google.com/github/Shubangi-Saxena/Intent_Recognition_Shreya_Shubangi_Srushti/blob/main/BiLSTM.ipynb\" target=\"_parent\"><img src=\"https://colab.research.google.com/assets/colab-badge.svg\" alt=\"Open In Colab\"/></a>"
      ]
    },
    {
      "cell_type": "code",
      "execution_count": null,
      "metadata": {
        "id": "gB-3A31lHiZN"
      },
      "outputs": [],
      "source": [
        "import numpy as np\n",
        "import pandas as pd\n",
        "from nltk.corpus import stopwords\n",
        "from nltk.tokenize import word_tokenize\n",
        "from nltk.stem.lancaster import LancasterStemmer\n",
        "import nltk\n",
        "import re\n",
        "from sklearn.preprocessing import OneHotEncoder\n",
        "import matplotlib.pyplot as plt\n",
        "from keras.preprocessing.text import Tokenizer\n",
        "from keras_preprocessing.sequence import pad_sequences\n",
        "from keras.utils import to_categorical\n",
        "from keras.models import Sequential, load_model\n",
        "from keras.layers import Dense, LSTM, Bidirectional, Embedding, Dropout\n",
        "from keras.callbacks import ModelCheckpoint"
      ]
    },
    {
      "cell_type": "code",
      "source": [
        "TRAIN_PATH = f\"train.tsv\"\n",
        "VAL_PATH = f\"dev.tsv\"\n",
        "TEST_PATH = f\"test.tsv\"\n",
        "df = pd.read_csv(TEST_PATH,sep='\\t',names = [\"Intent\", \"sentence\",\"something\"])\n",
        "df_train=pd.DataFrame()\n",
        "def load_snips_file(file_path):\n",
        "    list_pair =[]\n",
        "    with open(file_path,'r',encoding=\"utf8\") as f:\n",
        "        for line in f:\n",
        "            split_line = line.split('\\t')\n",
        "            pair = split_line[0],split_line[1]\n",
        "            list_pair.append(pair)\n",
        "    return list_pair\n",
        "all_train_examples = load_snips_file(TRAIN_PATH)\n",
        "valid_examples = load_snips_file(VAL_PATH)\n",
        "test_examples = load_snips_file(TEST_PATH)\n",
        "df.head()"
      ],
      "metadata": {
        "colab": {
          "base_uri": "https://localhost:8080/",
          "height": 206
        },
        "id": "jnNvVKJWHtrg",
        "outputId": "0d5aa4f1-f87a-4a3c-8d17-af1d27112e75"
      },
      "execution_count": null,
      "outputs": [
        {
          "output_type": "execute_result",
          "data": {
            "text/plain": [
              "           Intent                                           sentence  \\\n",
              "0   AddToPlaylist  add sabrina salerno to the grime instrumentals...   \n",
              "1  BookRestaurant  i want to bring four people to a place that s ...   \n",
              "2   AddToPlaylist  put lindsey cardinale into my hillary clinton ...   \n",
              "3      GetWeather                will it snow in mt on june 13  2038   \n",
              "4       PlayMusic     play signe anderson chant music that is newest   \n",
              "\n",
              "                                           something  \n",
              "0    O B-artist I-artist O O B-playlist I-playlist O  \n",
              "1  O O O O B-party_size_number O O O O O O B-spat...  \n",
              "2  O B-artist I-artist O B-playlist_owner B-playl...  \n",
              "3  O O B-condition_description O B-state O B-time...  \n",
              "4      O B-artist I-artist B-music_item O O O B-sort  "
            ],
            "text/html": [
              "\n",
              "  <div id=\"df-c1584698-d08d-4e17-9ffa-c0ef91022d18\">\n",
              "    <div class=\"colab-df-container\">\n",
              "      <div>\n",
              "<style scoped>\n",
              "    .dataframe tbody tr th:only-of-type {\n",
              "        vertical-align: middle;\n",
              "    }\n",
              "\n",
              "    .dataframe tbody tr th {\n",
              "        vertical-align: top;\n",
              "    }\n",
              "\n",
              "    .dataframe thead th {\n",
              "        text-align: right;\n",
              "    }\n",
              "</style>\n",
              "<table border=\"1\" class=\"dataframe\">\n",
              "  <thead>\n",
              "    <tr style=\"text-align: right;\">\n",
              "      <th></th>\n",
              "      <th>Intent</th>\n",
              "      <th>sentence</th>\n",
              "      <th>something</th>\n",
              "    </tr>\n",
              "  </thead>\n",
              "  <tbody>\n",
              "    <tr>\n",
              "      <th>0</th>\n",
              "      <td>AddToPlaylist</td>\n",
              "      <td>add sabrina salerno to the grime instrumentals...</td>\n",
              "      <td>O B-artist I-artist O O B-playlist I-playlist O</td>\n",
              "    </tr>\n",
              "    <tr>\n",
              "      <th>1</th>\n",
              "      <td>BookRestaurant</td>\n",
              "      <td>i want to bring four people to a place that s ...</td>\n",
              "      <td>O O O O B-party_size_number O O O O O O B-spat...</td>\n",
              "    </tr>\n",
              "    <tr>\n",
              "      <th>2</th>\n",
              "      <td>AddToPlaylist</td>\n",
              "      <td>put lindsey cardinale into my hillary clinton ...</td>\n",
              "      <td>O B-artist I-artist O B-playlist_owner B-playl...</td>\n",
              "    </tr>\n",
              "    <tr>\n",
              "      <th>3</th>\n",
              "      <td>GetWeather</td>\n",
              "      <td>will it snow in mt on june 13  2038</td>\n",
              "      <td>O O B-condition_description O B-state O B-time...</td>\n",
              "    </tr>\n",
              "    <tr>\n",
              "      <th>4</th>\n",
              "      <td>PlayMusic</td>\n",
              "      <td>play signe anderson chant music that is newest</td>\n",
              "      <td>O B-artist I-artist B-music_item O O O B-sort</td>\n",
              "    </tr>\n",
              "  </tbody>\n",
              "</table>\n",
              "</div>\n",
              "      <button class=\"colab-df-convert\" onclick=\"convertToInteractive('df-c1584698-d08d-4e17-9ffa-c0ef91022d18')\"\n",
              "              title=\"Convert this dataframe to an interactive table.\"\n",
              "              style=\"display:none;\">\n",
              "        \n",
              "  <svg xmlns=\"http://www.w3.org/2000/svg\" height=\"24px\"viewBox=\"0 0 24 24\"\n",
              "       width=\"24px\">\n",
              "    <path d=\"M0 0h24v24H0V0z\" fill=\"none\"/>\n",
              "    <path d=\"M18.56 5.44l.94 2.06.94-2.06 2.06-.94-2.06-.94-.94-2.06-.94 2.06-2.06.94zm-11 1L8.5 8.5l.94-2.06 2.06-.94-2.06-.94L8.5 2.5l-.94 2.06-2.06.94zm10 10l.94 2.06.94-2.06 2.06-.94-2.06-.94-.94-2.06-.94 2.06-2.06.94z\"/><path d=\"M17.41 7.96l-1.37-1.37c-.4-.4-.92-.59-1.43-.59-.52 0-1.04.2-1.43.59L10.3 9.45l-7.72 7.72c-.78.78-.78 2.05 0 2.83L4 21.41c.39.39.9.59 1.41.59.51 0 1.02-.2 1.41-.59l7.78-7.78 2.81-2.81c.8-.78.8-2.07 0-2.86zM5.41 20L4 18.59l7.72-7.72 1.47 1.35L5.41 20z\"/>\n",
              "  </svg>\n",
              "      </button>\n",
              "      \n",
              "  <style>\n",
              "    .colab-df-container {\n",
              "      display:flex;\n",
              "      flex-wrap:wrap;\n",
              "      gap: 12px;\n",
              "    }\n",
              "\n",
              "    .colab-df-convert {\n",
              "      background-color: #E8F0FE;\n",
              "      border: none;\n",
              "      border-radius: 50%;\n",
              "      cursor: pointer;\n",
              "      display: none;\n",
              "      fill: #1967D2;\n",
              "      height: 32px;\n",
              "      padding: 0 0 0 0;\n",
              "      width: 32px;\n",
              "    }\n",
              "\n",
              "    .colab-df-convert:hover {\n",
              "      background-color: #E2EBFA;\n",
              "      box-shadow: 0px 1px 2px rgba(60, 64, 67, 0.3), 0px 1px 3px 1px rgba(60, 64, 67, 0.15);\n",
              "      fill: #174EA6;\n",
              "    }\n",
              "\n",
              "    [theme=dark] .colab-df-convert {\n",
              "      background-color: #3B4455;\n",
              "      fill: #D2E3FC;\n",
              "    }\n",
              "\n",
              "    [theme=dark] .colab-df-convert:hover {\n",
              "      background-color: #434B5C;\n",
              "      box-shadow: 0px 1px 3px 1px rgba(0, 0, 0, 0.15);\n",
              "      filter: drop-shadow(0px 1px 2px rgba(0, 0, 0, 0.3));\n",
              "      fill: #FFFFFF;\n",
              "    }\n",
              "  </style>\n",
              "\n",
              "      <script>\n",
              "        const buttonEl =\n",
              "          document.querySelector('#df-c1584698-d08d-4e17-9ffa-c0ef91022d18 button.colab-df-convert');\n",
              "        buttonEl.style.display =\n",
              "          google.colab.kernel.accessAllowed ? 'block' : 'none';\n",
              "\n",
              "        async function convertToInteractive(key) {\n",
              "          const element = document.querySelector('#df-c1584698-d08d-4e17-9ffa-c0ef91022d18');\n",
              "          const dataTable =\n",
              "            await google.colab.kernel.invokeFunction('convertToInteractive',\n",
              "                                                     [key], {});\n",
              "          if (!dataTable) return;\n",
              "\n",
              "          const docLinkHtml = 'Like what you see? Visit the ' +\n",
              "            '<a target=\"_blank\" href=https://colab.research.google.com/notebooks/data_table.ipynb>data table notebook</a>'\n",
              "            + ' to learn more about interactive tables.';\n",
              "          element.innerHTML = '';\n",
              "          dataTable['output_type'] = 'display_data';\n",
              "          await google.colab.output.renderOutput(dataTable, element);\n",
              "          const docLink = document.createElement('div');\n",
              "          docLink.innerHTML = docLinkHtml;\n",
              "          element.appendChild(docLink);\n",
              "        }\n",
              "      </script>\n",
              "    </div>\n",
              "  </div>\n",
              "  "
            ]
          },
          "metadata": {},
          "execution_count": 4
        }
      ]
    },
    {
      "cell_type": "code",
      "source": [
        "df.drop(\"something\", axis='columns')"
      ],
      "metadata": {
        "colab": {
          "base_uri": "https://localhost:8080/",
          "height": 424
        },
        "id": "47HJQrbtM1Rh",
        "outputId": "8343e4d8-68f6-4f99-c217-1dbb3ac70415"
      },
      "execution_count": null,
      "outputs": [
        {
          "output_type": "execute_result",
          "data": {
            "text/plain": [
              "                 Intent                                           sentence\n",
              "0         AddToPlaylist  add sabrina salerno to the grime instrumentals...\n",
              "1        BookRestaurant  i want to bring four people to a place that s ...\n",
              "2         AddToPlaylist  put lindsey cardinale into my hillary clinton ...\n",
              "3            GetWeather                will it snow in mt on june 13  2038\n",
              "4             PlayMusic     play signe anderson chant music that is newest\n",
              "..                  ...                                                ...\n",
              "695  SearchCreativeWork          find a tv series called armageddon summer\n",
              "696  SearchCreativeWork               find politicsnation with al sharpton\n",
              "697            RateBook                  rate this album 0 points out of 6\n",
              "698       AddToPlaylist  add leah kauffman to my uncharted 4 nathan dra...\n",
              "699            RateBook                       rate this album two out of 6\n",
              "\n",
              "[700 rows x 2 columns]"
            ],
            "text/html": [
              "\n",
              "  <div id=\"df-23893387-9182-40ad-af54-5dccf8655b5e\">\n",
              "    <div class=\"colab-df-container\">\n",
              "      <div>\n",
              "<style scoped>\n",
              "    .dataframe tbody tr th:only-of-type {\n",
              "        vertical-align: middle;\n",
              "    }\n",
              "\n",
              "    .dataframe tbody tr th {\n",
              "        vertical-align: top;\n",
              "    }\n",
              "\n",
              "    .dataframe thead th {\n",
              "        text-align: right;\n",
              "    }\n",
              "</style>\n",
              "<table border=\"1\" class=\"dataframe\">\n",
              "  <thead>\n",
              "    <tr style=\"text-align: right;\">\n",
              "      <th></th>\n",
              "      <th>Intent</th>\n",
              "      <th>sentence</th>\n",
              "    </tr>\n",
              "  </thead>\n",
              "  <tbody>\n",
              "    <tr>\n",
              "      <th>0</th>\n",
              "      <td>AddToPlaylist</td>\n",
              "      <td>add sabrina salerno to the grime instrumentals...</td>\n",
              "    </tr>\n",
              "    <tr>\n",
              "      <th>1</th>\n",
              "      <td>BookRestaurant</td>\n",
              "      <td>i want to bring four people to a place that s ...</td>\n",
              "    </tr>\n",
              "    <tr>\n",
              "      <th>2</th>\n",
              "      <td>AddToPlaylist</td>\n",
              "      <td>put lindsey cardinale into my hillary clinton ...</td>\n",
              "    </tr>\n",
              "    <tr>\n",
              "      <th>3</th>\n",
              "      <td>GetWeather</td>\n",
              "      <td>will it snow in mt on june 13  2038</td>\n",
              "    </tr>\n",
              "    <tr>\n",
              "      <th>4</th>\n",
              "      <td>PlayMusic</td>\n",
              "      <td>play signe anderson chant music that is newest</td>\n",
              "    </tr>\n",
              "    <tr>\n",
              "      <th>...</th>\n",
              "      <td>...</td>\n",
              "      <td>...</td>\n",
              "    </tr>\n",
              "    <tr>\n",
              "      <th>695</th>\n",
              "      <td>SearchCreativeWork</td>\n",
              "      <td>find a tv series called armageddon summer</td>\n",
              "    </tr>\n",
              "    <tr>\n",
              "      <th>696</th>\n",
              "      <td>SearchCreativeWork</td>\n",
              "      <td>find politicsnation with al sharpton</td>\n",
              "    </tr>\n",
              "    <tr>\n",
              "      <th>697</th>\n",
              "      <td>RateBook</td>\n",
              "      <td>rate this album 0 points out of 6</td>\n",
              "    </tr>\n",
              "    <tr>\n",
              "      <th>698</th>\n",
              "      <td>AddToPlaylist</td>\n",
              "      <td>add leah kauffman to my uncharted 4 nathan dra...</td>\n",
              "    </tr>\n",
              "    <tr>\n",
              "      <th>699</th>\n",
              "      <td>RateBook</td>\n",
              "      <td>rate this album two out of 6</td>\n",
              "    </tr>\n",
              "  </tbody>\n",
              "</table>\n",
              "<p>700 rows × 2 columns</p>\n",
              "</div>\n",
              "      <button class=\"colab-df-convert\" onclick=\"convertToInteractive('df-23893387-9182-40ad-af54-5dccf8655b5e')\"\n",
              "              title=\"Convert this dataframe to an interactive table.\"\n",
              "              style=\"display:none;\">\n",
              "        \n",
              "  <svg xmlns=\"http://www.w3.org/2000/svg\" height=\"24px\"viewBox=\"0 0 24 24\"\n",
              "       width=\"24px\">\n",
              "    <path d=\"M0 0h24v24H0V0z\" fill=\"none\"/>\n",
              "    <path d=\"M18.56 5.44l.94 2.06.94-2.06 2.06-.94-2.06-.94-.94-2.06-.94 2.06-2.06.94zm-11 1L8.5 8.5l.94-2.06 2.06-.94-2.06-.94L8.5 2.5l-.94 2.06-2.06.94zm10 10l.94 2.06.94-2.06 2.06-.94-2.06-.94-.94-2.06-.94 2.06-2.06.94z\"/><path d=\"M17.41 7.96l-1.37-1.37c-.4-.4-.92-.59-1.43-.59-.52 0-1.04.2-1.43.59L10.3 9.45l-7.72 7.72c-.78.78-.78 2.05 0 2.83L4 21.41c.39.39.9.59 1.41.59.51 0 1.02-.2 1.41-.59l7.78-7.78 2.81-2.81c.8-.78.8-2.07 0-2.86zM5.41 20L4 18.59l7.72-7.72 1.47 1.35L5.41 20z\"/>\n",
              "  </svg>\n",
              "      </button>\n",
              "      \n",
              "  <style>\n",
              "    .colab-df-container {\n",
              "      display:flex;\n",
              "      flex-wrap:wrap;\n",
              "      gap: 12px;\n",
              "    }\n",
              "\n",
              "    .colab-df-convert {\n",
              "      background-color: #E8F0FE;\n",
              "      border: none;\n",
              "      border-radius: 50%;\n",
              "      cursor: pointer;\n",
              "      display: none;\n",
              "      fill: #1967D2;\n",
              "      height: 32px;\n",
              "      padding: 0 0 0 0;\n",
              "      width: 32px;\n",
              "    }\n",
              "\n",
              "    .colab-df-convert:hover {\n",
              "      background-color: #E2EBFA;\n",
              "      box-shadow: 0px 1px 2px rgba(60, 64, 67, 0.3), 0px 1px 3px 1px rgba(60, 64, 67, 0.15);\n",
              "      fill: #174EA6;\n",
              "    }\n",
              "\n",
              "    [theme=dark] .colab-df-convert {\n",
              "      background-color: #3B4455;\n",
              "      fill: #D2E3FC;\n",
              "    }\n",
              "\n",
              "    [theme=dark] .colab-df-convert:hover {\n",
              "      background-color: #434B5C;\n",
              "      box-shadow: 0px 1px 3px 1px rgba(0, 0, 0, 0.15);\n",
              "      filter: drop-shadow(0px 1px 2px rgba(0, 0, 0, 0.3));\n",
              "      fill: #FFFFFF;\n",
              "    }\n",
              "  </style>\n",
              "\n",
              "      <script>\n",
              "        const buttonEl =\n",
              "          document.querySelector('#df-23893387-9182-40ad-af54-5dccf8655b5e button.colab-df-convert');\n",
              "        buttonEl.style.display =\n",
              "          google.colab.kernel.accessAllowed ? 'block' : 'none';\n",
              "\n",
              "        async function convertToInteractive(key) {\n",
              "          const element = document.querySelector('#df-23893387-9182-40ad-af54-5dccf8655b5e');\n",
              "          const dataTable =\n",
              "            await google.colab.kernel.invokeFunction('convertToInteractive',\n",
              "                                                     [key], {});\n",
              "          if (!dataTable) return;\n",
              "\n",
              "          const docLinkHtml = 'Like what you see? Visit the ' +\n",
              "            '<a target=\"_blank\" href=https://colab.research.google.com/notebooks/data_table.ipynb>data table notebook</a>'\n",
              "            + ' to learn more about interactive tables.';\n",
              "          element.innerHTML = '';\n",
              "          dataTable['output_type'] = 'display_data';\n",
              "          await google.colab.output.renderOutput(dataTable, element);\n",
              "          const docLink = document.createElement('div');\n",
              "          docLink.innerHTML = docLinkHtml;\n",
              "          element.appendChild(docLink);\n",
              "        }\n",
              "      </script>\n",
              "    </div>\n",
              "  </div>\n",
              "  "
            ]
          },
          "metadata": {},
          "execution_count": 5
        }
      ]
    },
    {
      "cell_type": "code",
      "source": [
        "#How many training examples are there for each intent?\n",
        "intent_series = pd.Series(np.array(all_train_examples)[:,0])\n",
        "intent_series.value_counts()"
      ],
      "metadata": {
        "colab": {
          "base_uri": "https://localhost:8080/"
        },
        "id": "K2Tbd6WDHyzK",
        "outputId": "8cc2562e-b7dd-444c-8cd5-e611e4f7660b"
      },
      "execution_count": null,
      "outputs": [
        {
          "output_type": "execute_result",
          "data": {
            "text/plain": [
              "PlayMusic               1914\n",
              "GetWeather              1896\n",
              "BookRestaurant          1881\n",
              "RateBook                1876\n",
              "SearchScreeningEvent    1852\n",
              "SearchCreativeWork      1847\n",
              "AddToPlaylist           1818\n",
              "dtype: int64"
            ]
          },
          "metadata": {},
          "execution_count": 6
        }
      ]
    },
    {
      "cell_type": "code",
      "source": [
        "def load_dataset(filename):\n",
        "  df_train = pd.read_csv(TRAIN_PATH,sep='\\t',names = [\"Intent\", \"sentences\",\"something\"])\n",
        "  df_train.drop(\"something\", axis='columns')\n",
        "  intent = df_train[\"Intent\"]\n",
        "  unique_intent = list(set(intent))\n",
        "  sentences = list(df_train[\"sentences\"])\n",
        "  \n",
        "  return (intent, unique_intent, sentences)\n"
      ],
      "metadata": {
        "id": "rJdDitk4In5y"
      },
      "execution_count": null,
      "outputs": []
    },
    {
      "cell_type": "code",
      "source": [
        "intent, unique_intent, sentences = load_dataset(\"train.csv\")"
      ],
      "metadata": {
        "id": "o9fw0Zs2NlVE"
      },
      "execution_count": null,
      "outputs": []
    },
    {
      "cell_type": "code",
      "source": [
        "print(sentences[:10])"
      ],
      "metadata": {
        "colab": {
          "base_uri": "https://localhost:8080/"
        },
        "id": "1CuPCT_6Iv4Z",
        "outputId": "3bd209e0-3702-46db-f719-dd7669d83cb0"
      },
      "execution_count": null,
      "outputs": [
        {
          "output_type": "stream",
          "name": "stdout",
          "text": [
            "['listen to westbam alumb allergic on google music', 'add step to me to the 50 clásicos playlist', 'i give this current textbook a rating value of 1 and a best rating of 6', 'play the song little robin redbreast', 'please add iris dement to my playlist this is selena', 'add slimm cutta calhoun to my this is prince playlist', 'i want to listen to seventies music', 'play a popular chant by brian epstein', 'find fish story', 'book a spot for 3 in mt']\n"
          ]
        }
      ]
    },
    {
      "cell_type": "code",
      "source": [
        "nltk.download(\"stopwords\")\n",
        "nltk.download(\"punkt\")"
      ],
      "metadata": {
        "colab": {
          "base_uri": "https://localhost:8080/"
        },
        "id": "9PqhUh7VNalJ",
        "outputId": "42f5fa1c-fce0-4a86-fba1-74b75ce4524a"
      },
      "execution_count": null,
      "outputs": [
        {
          "output_type": "stream",
          "name": "stderr",
          "text": [
            "[nltk_data] Downloading package stopwords to /root/nltk_data...\n",
            "[nltk_data]   Unzipping corpora/stopwords.zip.\n",
            "[nltk_data] Downloading package punkt to /root/nltk_data...\n",
            "[nltk_data]   Unzipping tokenizers/punkt.zip.\n"
          ]
        },
        {
          "output_type": "execute_result",
          "data": {
            "text/plain": [
              "True"
            ]
          },
          "metadata": {},
          "execution_count": 10
        }
      ]
    },
    {
      "cell_type": "code",
      "source": [
        "#define stemmer\n",
        "stemmer = LancasterStemmer()"
      ],
      "metadata": {
        "id": "sEYOaf7FOMcF"
      },
      "execution_count": null,
      "outputs": []
    },
    {
      "cell_type": "code",
      "source": [
        "def cleaning(sentences):\n",
        "  words = []\n",
        "  for s in sentences:\n",
        "    clean = re.sub(r'[^ a-z A-Z 0-9]', \" \", s)\n",
        "    w = word_tokenize(clean)\n",
        "    #stemming\n",
        "    words.append([i.lower() for i in w])\n",
        "    \n",
        "  return words  "
      ],
      "metadata": {
        "id": "PxHUDI_POczz"
      },
      "execution_count": null,
      "outputs": []
    },
    {
      "cell_type": "code",
      "source": [
        "cleaned_words = cleaning(sentences)\n",
        "print(len(cleaned_words))\n",
        "print(cleaned_words[:2]) "
      ],
      "metadata": {
        "colab": {
          "base_uri": "https://localhost:8080/"
        },
        "id": "DpWHOKp3OegU",
        "outputId": "4967bb00-0c7f-4bf2-bb1b-a59697865429"
      },
      "execution_count": null,
      "outputs": [
        {
          "output_type": "stream",
          "name": "stdout",
          "text": [
            "13084\n",
            "[['listen', 'to', 'westbam', 'alumb', 'allergic', 'on', 'google', 'music'], ['add', 'step', 'to', 'me', 'to', 'the', '50', 'cl', 'sicos', 'playlist']]\n"
          ]
        }
      ]
    },
    {
      "cell_type": "markdown",
      "source": [
        "Keras tokenizer"
      ],
      "metadata": {
        "id": "ZISUxJ9SOliu"
      }
    },
    {
      "cell_type": "code",
      "source": [
        "def create_tokenizer(words, filters = '!\"#$%&()*+,-./:;<=>?@[\\]^_`{|}~'):\n",
        "  token = Tokenizer(filters = filters)\n",
        "  token.fit_on_texts(words)\n",
        "  return token"
      ],
      "metadata": {
        "id": "ykwjn-GkOg9_"
      },
      "execution_count": null,
      "outputs": []
    },
    {
      "cell_type": "code",
      "source": [
        "def max_lengthh(words):\n",
        "  return(len(max(words, key = len)))"
      ],
      "metadata": {
        "id": "h7E-kByeOlDM"
      },
      "execution_count": null,
      "outputs": []
    },
    {
      "cell_type": "code",
      "source": [
        "word_tokenizer = create_tokenizer(cleaned_words)\n",
        "vocab_size = len(word_tokenizer.word_index) + 1\n",
        "max_length = max_lengthh(cleaned_words)\n",
        "\n",
        "print(\"Vocab Size = %d and Maximum length = %d\" % (vocab_size, max_length))"
      ],
      "metadata": {
        "colab": {
          "base_uri": "https://localhost:8080/"
        },
        "id": "O-gAtagOOoxx",
        "outputId": "9af720ea-4501-466c-91d8-11158d3f5648"
      },
      "execution_count": null,
      "outputs": [
        {
          "output_type": "stream",
          "name": "stdout",
          "text": [
            "Vocab Size = 11059 and Maximum length = 35\n"
          ]
        }
      ]
    },
    {
      "cell_type": "markdown",
      "source": [
        "One hot encoding for the model"
      ],
      "metadata": {
        "id": "mvnLjKHKOtJJ"
      }
    },
    {
      "cell_type": "code",
      "source": [
        "def encoding_doc(token, words):\n",
        "  return(token.texts_to_sequences(words))"
      ],
      "metadata": {
        "id": "WLbQzCdEOqYC"
      },
      "execution_count": null,
      "outputs": []
    },
    {
      "cell_type": "code",
      "source": [
        "encoded_doc = encoding_doc(word_tokenizer, cleaned_words)"
      ],
      "metadata": {
        "id": "huVAeD-iOvGB"
      },
      "execution_count": null,
      "outputs": []
    },
    {
      "cell_type": "code",
      "source": [
        "def padding_doc(encoded_doc, max_length):\n",
        "  return(pad_sequences(encoded_doc, maxlen = max_length, padding = \"post\"))"
      ],
      "metadata": {
        "id": "Aw_8SvGhOwjc"
      },
      "execution_count": null,
      "outputs": []
    },
    {
      "cell_type": "code",
      "source": [
        "padded_doc = padding_doc(encoded_doc, max_length)"
      ],
      "metadata": {
        "id": "TVO1IbXROyGb"
      },
      "execution_count": null,
      "outputs": []
    },
    {
      "cell_type": "code",
      "source": [
        "padded_doc[:5]"
      ],
      "metadata": {
        "colab": {
          "base_uri": "https://localhost:8080/"
        },
        "id": "jNGTyy0lOzxn",
        "outputId": "13bf8b87-9b1b-41ff-de6c-e07271c45399"
      },
      "execution_count": null,
      "outputs": [
        {
          "output_type": "execute_result",
          "data": {
            "text/plain": [
              "array([[ 188,    4, 4425, 4426, 4427,   18,  203,   35,    0,    0,    0,\n",
              "           0,    0,    0,    0,    0,    0,    0,    0,    0,    0,    0,\n",
              "           0,    0,    0,    0,    0,    0,    0,    0,    0,    0,    0,\n",
              "           0,    0],\n",
              "       [  12,  431,    4,   17,    4,    1,  318, 1002, 1115,   16,    0,\n",
              "           0,    0,    0,    0,    0,    0,    0,    0,    0,    0,    0,\n",
              "           0,    0,    0,    0,    0,    0,    0,    0,    0,    0,    0,\n",
              "           0,    0],\n",
              "       [   7,   29,   19,   37,  100,    2,   73,  251,    6,   53,   24,\n",
              "           2,  111,   73,    6,   20,    0,    0,    0,    0,    0,    0,\n",
              "           0,    0,    0,    0,    0,    0,    0,    0,    0,    0,    0,\n",
              "           0,    0],\n",
              "       [   9,    1,   47,  358,  756, 4428,    0,    0,    0,    0,    0,\n",
              "           0,    0,    0,    0,    0,    0,    0,    0,    0,    0,    0,\n",
              "           0,    0,    0,    0,    0,    0,    0,    0,    0,    0,    0,\n",
              "           0,    0],\n",
              "       [  57,   12, 2130, 2877,    4,   15,   16,   19,   10, 4429,    0,\n",
              "           0,    0,    0,    0,    0,    0,    0,    0,    0,    0,    0,\n",
              "           0,    0,    0,    0,    0,    0,    0,    0,    0,    0,    0,\n",
              "           0,    0]], dtype=int32)"
            ]
          },
          "metadata": {},
          "execution_count": 21
        }
      ]
    },
    {
      "cell_type": "code",
      "source": [
        "#tokenizer with filter changed\n",
        "output_tokenizer = create_tokenizer(unique_intent, filters = '!\"#$%&()*+,-/:;<=>?@[\\]^`{|}~')\n"
      ],
      "metadata": {
        "id": "8SY_jCtDO1Xa"
      },
      "execution_count": null,
      "outputs": []
    },
    {
      "cell_type": "code",
      "source": [
        "output_tokenizer.word_index"
      ],
      "metadata": {
        "colab": {
          "base_uri": "https://localhost:8080/"
        },
        "id": "EY6ZV5RaO4at",
        "outputId": "f78ddf2b-83b9-4cb3-9860-80ea84edcd61"
      },
      "execution_count": null,
      "outputs": [
        {
          "output_type": "execute_result",
          "data": {
            "text/plain": [
              "{'getweather': 1,\n",
              " 'bookrestaurant': 2,\n",
              " 'searchscreeningevent': 3,\n",
              " 'searchcreativework': 4,\n",
              " 'ratebook': 5,\n",
              " 'addtoplaylist': 6,\n",
              " 'playmusic': 7}"
            ]
          },
          "metadata": {},
          "execution_count": 23
        }
      ]
    },
    {
      "cell_type": "code",
      "source": [
        "encoded_output = encoding_doc(output_tokenizer, intent)"
      ],
      "metadata": {
        "id": "MeyqP1KzO6Sv"
      },
      "execution_count": null,
      "outputs": []
    },
    {
      "cell_type": "code",
      "source": [
        "encoded_output = np.array(encoded_output).reshape(len(encoded_output), 1)"
      ],
      "metadata": {
        "id": "2UeD3IUOO-DT"
      },
      "execution_count": null,
      "outputs": []
    },
    {
      "cell_type": "code",
      "source": [
        "def one_hot(encode):\n",
        "  o = OneHotEncoder(sparse = False)\n",
        "  return(o.fit_transform(encode))"
      ],
      "metadata": {
        "id": "GysdG7qXPABr"
      },
      "execution_count": null,
      "outputs": []
    },
    {
      "cell_type": "code",
      "source": [
        "output_one_hot = one_hot(encoded_output)"
      ],
      "metadata": {
        "id": "YWPudUq4PBxf"
      },
      "execution_count": null,
      "outputs": []
    },
    {
      "cell_type": "code",
      "source": [
        "print(output_one_hot)"
      ],
      "metadata": {
        "colab": {
          "base_uri": "https://localhost:8080/"
        },
        "id": "ZOwYNqVrVquI",
        "outputId": "62724705-1156-41e2-bbd5-ccd27061d96c"
      },
      "execution_count": null,
      "outputs": [
        {
          "output_type": "stream",
          "name": "stdout",
          "text": [
            "[[0. 0. 0. ... 0. 0. 1.]\n",
            " [0. 0. 0. ... 0. 1. 0.]\n",
            " [0. 0. 0. ... 1. 0. 0.]\n",
            " ...\n",
            " [0. 0. 0. ... 1. 0. 0.]\n",
            " [0. 0. 0. ... 0. 0. 0.]\n",
            " [0. 0. 0. ... 1. 0. 0.]]\n"
          ]
        }
      ]
    },
    {
      "cell_type": "code",
      "source": [
        "from sklearn.model_selection import train_test_split"
      ],
      "metadata": {
        "id": "KYb2TVkfQZkn"
      },
      "execution_count": null,
      "outputs": []
    },
    {
      "cell_type": "code",
      "source": [
        "train_X, val_X, train_Y, val_Y = train_test_split(padded_doc, output_one_hot, shuffle = True, test_size = 0.2)"
      ],
      "metadata": {
        "id": "RcSJIFfEQbsZ"
      },
      "execution_count": null,
      "outputs": []
    },
    {
      "cell_type": "code",
      "source": [
        "print(\"Shape of train_X = %s and train_Y = %s\" % (train_X.shape, train_Y.shape))\n",
        "print(\"Shape of val_X = %s and val_Y = %s\" % (val_X.shape, val_Y.shape))"
      ],
      "metadata": {
        "colab": {
          "base_uri": "https://localhost:8080/"
        },
        "id": "8YwvGGlfQ3CL",
        "outputId": "a540ecc1-2ece-4046-8450-b8bd771e45c7"
      },
      "execution_count": null,
      "outputs": [
        {
          "output_type": "stream",
          "name": "stdout",
          "text": [
            "Shape of train_X = (10467, 35) and train_Y = (10467, 7)\n",
            "Shape of val_X = (2617, 35) and val_Y = (2617, 7)\n"
          ]
        }
      ]
    },
    {
      "cell_type": "code",
      "source": [
        "print(train_Y)"
      ],
      "metadata": {
        "colab": {
          "base_uri": "https://localhost:8080/"
        },
        "id": "fMYIETAkVQyG",
        "outputId": "fc1bfe1a-827b-4199-d9cd-e09088013967"
      },
      "execution_count": null,
      "outputs": [
        {
          "output_type": "stream",
          "name": "stdout",
          "text": [
            "[[1. 0. 0. ... 0. 0. 0.]\n",
            " [0. 0. 1. ... 0. 0. 0.]\n",
            " [0. 0. 0. ... 0. 0. 1.]\n",
            " ...\n",
            " [0. 0. 0. ... 0. 0. 1.]\n",
            " [0. 0. 0. ... 1. 0. 0.]\n",
            " [0. 0. 1. ... 0. 0. 0.]]\n"
          ]
        }
      ]
    },
    {
      "cell_type": "markdown",
      "source": [
        "Model"
      ],
      "metadata": {
        "id": "OamAxanJPM1e"
      }
    },
    {
      "cell_type": "code",
      "source": [
        "'''def create_model(vocab_size, max_length):\n",
        "  model = Sequential()\n",
        "  model.add(Embedding(vocab_size, 128, input_length = max_length, trainable = False))\n",
        "  model.add(Bidirectional(LSTM(128)))\n",
        "#   model.add(LSTM(128))\n",
        "  model.add(Dense(32, activation = \"relu\"))\n",
        "  model.add(Dropout(0.5))\n",
        "  model.add(Dense(21, activation = \"softmax\"))\n",
        "  \n",
        "  return model'''"
      ],
      "metadata": {
        "colab": {
          "base_uri": "https://localhost:8080/",
          "height": 70
        },
        "id": "X-kKjRuoPMb9",
        "outputId": "334d3139-0d02-4ab3-a0f9-790bd302a05c"
      },
      "execution_count": null,
      "outputs": [
        {
          "output_type": "execute_result",
          "data": {
            "text/plain": [
              "'def create_model(vocab_size, max_length):\\n  model = Sequential()\\n  model.add(Embedding(vocab_size, 128, input_length = max_length, trainable = False))\\n  model.add(Bidirectional(LSTM(128)))\\n#   model.add(LSTM(128))\\n  model.add(Dense(32, activation = \"relu\"))\\n  model.add(Dropout(0.5))\\n  model.add(Dense(21, activation = \"softmax\"))\\n  \\n  return model'"
            ],
            "application/vnd.google.colaboratory.intrinsic+json": {
              "type": "string"
            }
          },
          "metadata": {},
          "execution_count": 33
        }
      ]
    },
    {
      "cell_type": "code",
      "source": [
        "def create_model(vocab_size, max_length):\n",
        "  model = Sequential()\n",
        "  model.add(Embedding(vocab_size,128, input_length = max_length, trainable = False))\n",
        "  model.add(Bidirectional(LSTM(128, return_sequences=True)))\n",
        "  model.add(Bidirectional(LSTM(64)))\n",
        "  #model.add(LSTM(128))\n",
        "  model.add(Dense(32, activation = \"relu\"))\n",
        "  model.add(Dropout(0.5))\n",
        "  model.add(Dense(7, activation = \"softmax\"))\n",
        "  return model"
      ],
      "metadata": {
        "id": "BXjJQc0uPEEr"
      },
      "execution_count": 65,
      "outputs": []
    },
    {
      "cell_type": "code",
      "source": [
        "from keras import backend as K\n",
        "\n",
        "def recall_m(y_true, y_pred):\n",
        "    true_positives = K.sum(K.round(K.clip(y_true * y_pred, 0, 1)))\n",
        "    possible_positives = K.sum(K.round(K.clip(y_true, 0, 1)))\n",
        "    recall = true_positives / (possible_positives + K.epsilon())\n",
        "    return recall\n",
        "\n",
        "def precision_m(y_true, y_pred):\n",
        "    true_positives = K.sum(K.round(K.clip(y_true * y_pred, 0, 1)))\n",
        "    predicted_positives = K.sum(K.round(K.clip(y_pred, 0, 1)))\n",
        "    precision = true_positives / (predicted_positives + K.epsilon())\n",
        "    return precision\n",
        "\n",
        "def f1_m(y_true, y_pred):\n",
        "    precision = precision_m(y_true, y_pred)\n",
        "    recall = recall_m(y_true, y_pred)\n",
        "    return 2*((precision*recall)/(precision+recall+K.epsilon()))"
      ],
      "metadata": {
        "id": "dJaWeSA9lEvO"
      },
      "execution_count": 66,
      "outputs": []
    },
    {
      "cell_type": "code",
      "source": [
        "model = create_model(vocab_size, max_length)\n",
        "model.compile(loss = \"categorical_crossentropy\", optimizer = \"adam\", metrics = [\"accuracy\",f1_m,precision_m, recall_m])\n",
        "model.summary()"
      ],
      "metadata": {
        "colab": {
          "base_uri": "https://localhost:8080/"
        },
        "id": "F92u1X41PSjc",
        "outputId": "35a842bf-09f5-44d7-ef5a-bd73886c0bb0"
      },
      "execution_count": 67,
      "outputs": [
        {
          "output_type": "stream",
          "name": "stdout",
          "text": [
            "Model: \"sequential_3\"\n",
            "_________________________________________________________________\n",
            " Layer (type)                Output Shape              Param #   \n",
            "=================================================================\n",
            " embedding_2 (Embedding)     (None, 35, 128)           1415552   \n",
            "                                                                 \n",
            " bidirectional_2 (Bidirectio  (None, 35, 256)          263168    \n",
            " nal)                                                            \n",
            "                                                                 \n",
            " bidirectional_3 (Bidirectio  (None, 128)              164352    \n",
            " nal)                                                            \n",
            "                                                                 \n",
            " dense_3 (Dense)             (None, 32)                4128      \n",
            "                                                                 \n",
            " dropout_2 (Dropout)         (None, 32)                0         \n",
            "                                                                 \n",
            " dense_4 (Dense)             (None, 7)                 231       \n",
            "                                                                 \n",
            "=================================================================\n",
            "Total params: 1,847,431\n",
            "Trainable params: 431,879\n",
            "Non-trainable params: 1,415,552\n",
            "_________________________________________________________________\n"
          ]
        }
      ]
    },
    {
      "cell_type": "code",
      "source": [
        "filename = 'model.h5'\n",
        "checkpoint = ModelCheckpoint(filename, monitor='val_loss', verbose=1, save_best_only=True, mode='min')\n",
        "#print(train_X.shape)\n",
        "#print(train_Y.shape)\n",
        "#print(val_X.shape)\n",
        "#print(val_Y.shape)\n",
        "hist = model.fit(x=train_X, y=train_Y, epochs = 5, batch_size = 16, validation_data = (val_X, val_Y))"
      ],
      "metadata": {
        "colab": {
          "base_uri": "https://localhost:8080/"
        },
        "id": "sz9aQrOPPVVd",
        "outputId": "0b39e457-f478-42bf-ef38-2c733a6c7ed1"
      },
      "execution_count": 68,
      "outputs": [
        {
          "output_type": "stream",
          "name": "stdout",
          "text": [
            "Epoch 1/5\n",
            "655/655 [==============================] - 95s 130ms/step - loss: 1.0095 - accuracy: 0.6066 - f1_m: 0.5428 - precision_m: 0.7607 - recall_m: 0.4441 - val_loss: 0.3766 - val_accuracy: 0.8968 - val_f1_m: 0.8939 - val_precision_m: 0.9269 - val_recall_m: 0.8650\n",
            "Epoch 2/5\n",
            "655/655 [==============================] - 83s 126ms/step - loss: 0.4379 - accuracy: 0.8712 - f1_m: 0.8602 - precision_m: 0.9137 - recall_m: 0.8169 - val_loss: 0.2223 - val_accuracy: 0.9312 - val_f1_m: 0.9326 - val_precision_m: 0.9452 - val_recall_m: 0.9212\n",
            "Epoch 3/5\n",
            "655/655 [==============================] - 82s 125ms/step - loss: 0.2979 - accuracy: 0.9180 - f1_m: 0.9147 - precision_m: 0.9426 - recall_m: 0.8900 - val_loss: 0.1696 - val_accuracy: 0.9465 - val_f1_m: 0.9465 - val_precision_m: 0.9579 - val_recall_m: 0.9361\n",
            "Epoch 4/5\n",
            "655/655 [==============================] - 85s 130ms/step - loss: 0.2364 - accuracy: 0.9368 - f1_m: 0.9351 - precision_m: 0.9537 - recall_m: 0.9185 - val_loss: 0.1710 - val_accuracy: 0.9503 - val_f1_m: 0.9493 - val_precision_m: 0.9579 - val_recall_m: 0.9414\n",
            "Epoch 5/5\n",
            "655/655 [==============================] - 83s 126ms/step - loss: 0.2079 - accuracy: 0.9449 - f1_m: 0.9427 - precision_m: 0.9602 - recall_m: 0.9270 - val_loss: 0.1939 - val_accuracy: 0.9438 - val_f1_m: 0.9451 - val_precision_m: 0.9524 - val_recall_m: 0.9383\n"
          ]
        }
      ]
    },
    {
      "cell_type": "code",
      "source": [
        "loss = pd.DataFrame({'loss': model.history.history['accuracy'], 'auc': model.history.history['val_accuracy'] })"
      ],
      "metadata": {
        "id": "2nfVGXiHQxee"
      },
      "execution_count": 69,
      "outputs": []
    },
    {
      "cell_type": "code",
      "source": [
        "loss.plot()"
      ],
      "metadata": {
        "colab": {
          "base_uri": "https://localhost:8080/",
          "height": 282
        },
        "id": "juVqjGQDW46_",
        "outputId": "e2f3f9f2-59c4-4727-8216-9b9cc7abd842"
      },
      "execution_count": 70,
      "outputs": [
        {
          "output_type": "execute_result",
          "data": {
            "text/plain": [
              "<matplotlib.axes._subplots.AxesSubplot at 0x7fde9e0de110>"
            ]
          },
          "metadata": {},
          "execution_count": 70
        },
        {
          "output_type": "display_data",
          "data": {
            "text/plain": [
              "<Figure size 432x288 with 1 Axes>"
            ],
            "image/png": "[encoded data removed]"
          },
          "metadata": {
            "needs_background": "light"
          }
        }
      ]
    },
    {
      "cell_type": "code",
      "source": [
        "def predictions(text):\n",
        "  clean = re.sub(r'[^ a-z A-Z 0-9]', \" \", text)\n",
        "  test_word = word_tokenize(clean)\n",
        "  test_word = [w.lower() for w in test_word]\n",
        "  test_ls = word_tokenizer.texts_to_sequences(test_word)\n",
        "  print(test_word)\n",
        "  #Check for unknown words\n",
        "  if [] in test_ls:\n",
        "    test_ls = list(filter(None, test_ls))\n",
        "\n",
        "  test_ls = np.array(test_ls).reshape(1, len(test_ls))\n",
        "\n",
        "  x = padding_doc(test_ls, max_length)\n",
        "\n",
        "\n",
        "  #pred=np.argmax(model.predict(x), axis=-1)\n",
        "  pred=model.predict(x)\n",
        "  #print(pred_classes)\n",
        "  return pred"
      ],
      "metadata": {
        "id": "PRODFyl_W_9U"
      },
      "execution_count": 71,
      "outputs": []
    },
    {
      "cell_type": "code",
      "source": [
        "def get_final_output(pred, classes):\n",
        "  predictions = pred[0]\n",
        "  print(pred[0])\n",
        "  classes = np.array(classes)\n",
        "  ids = np.argsort(-predictions)\n",
        "  classes = classes[ids]\n",
        "  predictions =-np.sort(-predictions)\n",
        " \n",
        "  for i in range(pred.shape[1]):\n",
        "    print(\"%s has confidence = %s\" % (classes[i], (predictions[i])))\n"
      ],
      "metadata": {
        "id": "Mjvaw_E6X7RU"
      },
      "execution_count": 72,
      "outputs": []
    },
    {
      "cell_type": "code",
      "source": [
        "text = \"please search the young warriors game\"\n",
        "pred = predictions(text)\n",
        "get_final_output(pred, unique_intent)"
      ],
      "metadata": {
        "colab": {
          "base_uri": "https://localhost:8080/"
        },
        "id": "XymLEyjPYGMv",
        "outputId": "2c31bba0-6468-407a-e113-938f0fe7db27"
      },
      "execution_count": 73,
      "outputs": [
        {
          "output_type": "stream",
          "name": "stdout",
          "text": [
            "['please', 'search', 'the', 'young', 'warriors', 'game']\n",
            "1/1 [==============================] - 2s 2s/step\n",
            "[1.1507150e-04 2.0209183e-04 3.3381777e-03 9.9466407e-01 9.3445246e-04\n",
            " 1.4356585e-04 6.0241658e-04]\n",
            "SearchCreativeWork has confidence = 0.9946641\n",
            "SearchScreeningEvent has confidence = 0.0033381777\n",
            "RateBook has confidence = 0.00093445246\n",
            "PlayMusic has confidence = 0.0006024166\n",
            "BookRestaurant has confidence = 0.00020209183\n",
            "AddToPlaylist has confidence = 0.00014356585\n",
            "GetWeather has confidence = 0.0001150715\n"
          ]
        }
      ]
    },
    {
      "cell_type": "markdown",
      "source": [
        "Test Data Prep"
      ],
      "metadata": {
        "id": "tFmA5PH9WPT5"
      }
    },
    {
      "cell_type": "code",
      "source": [
        "intent_test, unique_intent_test, sentences_test = load_dataset(\"test.csv\")"
      ],
      "metadata": {
        "id": "2ziuNCf2Wmyl"
      },
      "execution_count": null,
      "outputs": []
    },
    {
      "cell_type": "code",
      "source": [
        "cleaned_words_test=cleaning(sentences_test)\n",
        "word_tokenizer_test = create_tokenizer(cleaned_words_test)\n",
        "vocab_size_test = len(word_tokenizer.word_index) + 1\n",
        "max_length_test = max_lengthh(cleaned_words_test)\n",
        "\n",
        "print(\"Vocab Size = %d and Maximum length = %d\" % (vocab_size_test, max_length_test))"
      ],
      "metadata": {
        "colab": {
          "base_uri": "https://localhost:8080/"
        },
        "id": "V8KNeU1zlKY6",
        "outputId": "82526605-cb71-47c5-cf5c-ecb724f94989"
      },
      "execution_count": null,
      "outputs": [
        {
          "output_type": "stream",
          "name": "stdout",
          "text": [
            "Vocab Size = 11059 and Maximum length = 35\n"
          ]
        }
      ]
    },
    {
      "cell_type": "code",
      "source": [
        "encoded_doc_test = encoding_doc(word_tokenizer_test, cleaned_words_test)"
      ],
      "metadata": {
        "id": "-Nvqs-jhOl9Q"
      },
      "execution_count": null,
      "outputs": []
    },
    {
      "cell_type": "code",
      "source": [
        "padded_doc_test = padding_doc(encoded_doc_test, max_length_test)"
      ],
      "metadata": {
        "id": "9Fd8vRKeXQpF"
      },
      "execution_count": null,
      "outputs": []
    },
    {
      "cell_type": "code",
      "source": [
        "#tokenizer with filter changed\n",
        "output_tokenizer_test = create_tokenizer(unique_intent_test, filters = '!\"#$%&()*+,-/:;<=>?@[\\]^`{|}~')"
      ],
      "metadata": {
        "id": "sOXCPr9-XjCg"
      },
      "execution_count": null,
      "outputs": []
    },
    {
      "cell_type": "code",
      "source": [
        "encoded_output_test = encoding_doc(output_tokenizer_test, intent_test)"
      ],
      "metadata": {
        "id": "ivb9imjgXszd"
      },
      "execution_count": null,
      "outputs": []
    },
    {
      "cell_type": "code",
      "source": [
        "encoded_output_test = np.array(encoded_output_test).reshape(len(encoded_output_test), 1)"
      ],
      "metadata": {
        "id": "P3XFckUQXzoN"
      },
      "execution_count": null,
      "outputs": []
    },
    {
      "cell_type": "code",
      "source": [
        "output_one_hot_test = one_hot(encoded_output_test)"
      ],
      "metadata": {
        "id": "2ubWoWMLX6Jw"
      },
      "execution_count": null,
      "outputs": []
    },
    {
      "cell_type": "code",
      "source": [
        "X_test=padded_doc_test\n",
        "Y_test=output_one_hot_test\n"
      ],
      "metadata": {
        "id": "UB7sj3RVX-Yr"
      },
      "execution_count": null,
      "outputs": []
    },
    {
      "cell_type": "code",
      "source": [
        "accr_gru = model.evaluate(X_test,Y_test)\n",
        "print('Test set\\n  Loss: {:0.3f}\\n  Accuracy: {:0.3f}'.format(accr_gru[0],accr_gru[1]))"
      ],
      "metadata": {
        "colab": {
          "base_uri": "https://localhost:8080/"
        },
        "id": "ekYJUyRzYPA3",
        "outputId": "a3dbc519-7005-47c6-d8f7-84a1ddb47495"
      },
      "execution_count": 74,
      "outputs": [
        {
          "output_type": "stream",
          "name": "stdout",
          "text": [
            "409/409 [==============================] - 30s 73ms/step - loss: 0.1622 - accuracy: 0.9507 - f1_m: 0.9520 - precision_m: 0.9597 - recall_m: 0.9447\n",
            "Test set\n",
            "  Loss: 0.162\n",
            "  Accuracy: 0.951\n"
          ]
        }
      ]
    }
  ]
}